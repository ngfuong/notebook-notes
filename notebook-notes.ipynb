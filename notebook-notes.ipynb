{
 "cells": [
  {
   "cell_type": "markdown",
   "metadata": {},
   "source": [
    "## Before you begin\n",
    "### Notebook cheat sheet\n",
    "[Cheat sheet](https://miro.medium.com/max/3650/1*totJoCc3l7BdeY-mEQ6HHQ.png)\n",
    "\n",
    "[Markdown cheat sheet](https://sqlbak.com/blog/wp-content/uploads/2020/04/Jupyter-Notebook-Markdown-Cheatsheet.png)\n",
    "### Jupyterlab\n",
    "For full Jupyterlab environment configuration, follow [this tutorial](https://www.digitalocean.com/community/tutorials/how-to-set-up-a-jupyterlab-environment-on-ubuntu-18-04)."
   ]
  },
  {
   "cell_type": "markdown",
   "metadata": {},
   "source": [
    "### Use new conda environment\n",
    "It is important to separate settings when you are working on different projects. Anaconda/Miniconda is a great manager when it comes to Python and Data.\n",
    "\n",
    "1. In terminal run:\n",
    "`conda create --name <environment-name>`\n",
    "\n",
    "2. Activate environment:\n",
    "`conda activate <environment-name>`"
   ]
  },
  {
   "cell_type": "markdown",
   "metadata": {},
   "source": [
    "## Install Environment Kernels\n",
    "If you are using conda and have several environments that use Notebook, refer to [this link](http://stuartmumford.uk/blog/jupyter-notebook-and-conda.html) to manage your environments.\n",
    "* Note: This requires `python3.6`"
   ]
  },
  {
   "cell_type": "markdown",
   "metadata": {},
   "source": [
    "### Import packages and modules"
   ]
  },
  {
   "cell_type": "code",
   "execution_count": null,
   "metadata": {},
   "outputs": [],
   "source": [
    "# Show graphs along with code\n",
    "%matplotlib inline\n",
    "import matplotlib.pyplot as plt\n",
    "import pandas as pd\n",
    "import numpy as np"
   ]
  },
  {
   "cell_type": "markdown",
   "metadata": {},
   "source": [
    "## Set default opening browser\n",
    "Sometimes it is neccessary to set a default browser for Notebook (when you have multiple browsers and you need to customize, or when the default settings of an app - NOTION!!! - mess up)\n",
    "\n",
    "In terminal:\n",
    "\n",
    "1. Generate a *jupyter_notebook_config.py*: `jupyter notebook --generate-config`\n",
    "\n",
    "\n",
    "2. Edit the file with your favorite editor: `vi <path_to_file>`\n",
    "\n",
    "\n",
    "3. Change the line `#c.NotebookApp.browser = ''` to `c.NotebookApp.browser = '<path_to_browser>'`\n",
    "\n",
    "\n",
    "Save the file and relaunch Notebook."
   ]
  },
  {
   "cell_type": "markdown",
   "metadata": {},
   "source": [
    "## Set the default directory"
   ]
  },
  {
   "cell_type": "markdown",
   "metadata": {},
   "source": [
    "To reduce the burden to navigating into your work folder you can change the default directory by editing the `jupyter_notebook_config.py`.\n",
    "\n",
    "In the file, change the line `#c.NotebookApp.notebook_dir = ''` to `c.NotebookApp.notebook_dir = '<path_to_folder'`\n",
    "\n",
    "Remember that `~/` does not work and you have to type the full path to your folder.\n",
    "\n",
    "Save the file and relaunch Notebook.\n"
   ]
  },
  {
   "cell_type": "markdown",
   "metadata": {},
   "source": []
  },
  {
   "cell_type": "markdown",
   "metadata": {},
   "source": [
    "## Configure Notebook environment\n",
    "### Install code autocomplete\n",
    "In terminal, run: `conda install -c conda-forge jupyter_contrib_nbextensions`\n",
    "\n",
    "To disnable extensions, run: `jupyter nbextension disable <nbextension require path>`\n",
    "\n",
    "To further manage extensions (nbextensions), follow [this link](https://github.com/ipython-contrib/jupyter_contrib_nbextensions)."
   ]
  },
  {
   "cell_type": "markdown",
   "metadata": {},
   "source": [
    "### Install Vim\n",
    "If you are a Vim aficionado then you must install the Vim plugin.\n",
    "\n",
    "Install by following [this Github tutorial](https://github.com/lambdalisue/jupyter-vim-binding).\n",
    "\n",
    "To remap Vim bindings, use [CodeMirror's Vim](https://codemirror.net/demo/vim.html) in the same Github tutorial."
   ]
  },
  {
   "cell_type": "markdown",
   "metadata": {},
   "source": [
    "### Install other kernels\n",
    "Jupyter Notebook is not only used to run Python code. You can execute C/C++, Java and the like without the need to compile your code.\n",
    "\n",
    "To install IJava kernel, follow [this Github tutorial](https://github.com/SpencerPark/IJava)."
   ]
  },
  {
   "cell_type": "markdown",
   "metadata": {},
   "source": [
    "## Ignore warnings"
   ]
  },
  {
   "cell_type": "code",
   "execution_count": null,
   "metadata": {},
   "outputs": [],
   "source": [
    "import warnings\n",
    "warnings.filterwarnings('ignore')"
   ]
  },
  {
   "cell_type": "markdown",
   "metadata": {},
   "source": [
    "## Pandas and Numpy"
   ]
  },
  {
   "cell_type": "markdown",
   "metadata": {},
   "source": [
    "\n",
    "### Maximum DataFrame rows\n",
    "To show all columns when looking at dataframe, with maximum col number 100:"
   ]
  },
  {
   "cell_type": "code",
   "execution_count": null,
   "metadata": {},
   "outputs": [],
   "source": [
    "pd.set_option('display.max_columns', 100)"
   ]
  },
  {
   "cell_type": "markdown",
   "metadata": {},
   "source": [
    "To reset index of a dataframe to 1 (this associates index 0 to NaN):"
   ]
  },
  {
   "cell_type": "code",
   "execution_count": null,
   "metadata": {},
   "outputs": [],
   "source": [
    "df.index = range(1,df.shape[0]+1)"
   ]
  },
  {
   "cell_type": "markdown",
   "metadata": {},
   "source": [
    "### Plots are not showing\n",
    "If plt.show() does not show, it might be due to the interactive mode of your notebook. Turn off interactive mode by:"
   ]
  },
  {
   "cell_type": "code",
   "execution_count": null,
   "metadata": {},
   "outputs": [],
   "source": [
    "plt.ioff()"
   ]
  }
 ],
 "metadata": {
  "kernelspec": {
   "display_name": "Python 3",
   "language": "python",
   "name": "python3"
  },
  "language_info": {
   "codemirror_mode": {
    "name": "ipython",
    "version": 3
   },
   "file_extension": ".py",
   "mimetype": "text/x-python",
   "name": "python",
   "nbconvert_exporter": "python",
   "pygments_lexer": "ipython3",
   "version": "3.8.3"
  }
 },
 "nbformat": 4,
 "nbformat_minor": 4
}
